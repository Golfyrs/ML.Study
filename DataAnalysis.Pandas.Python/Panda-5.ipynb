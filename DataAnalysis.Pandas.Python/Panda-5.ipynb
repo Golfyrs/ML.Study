{
 "nbformat": 4,
 "nbformat_minor": 2,
 "metadata": {
  "language_info": {
   "name": "python",
   "codemirror_mode": {
    "name": "ipython",
    "version": 3
   },
   "version": "3.7.7-final"
  },
  "orig_nbformat": 2,
  "file_extension": ".py",
  "mimetype": "text/x-python",
  "name": "python",
  "npconvert_exporter": "python",
  "pygments_lexer": "ipython3",
  "version": 3,
  "kernelspec": {
   "name": "python37764bit482021fea1c847e3a486dbbd075e16c7",
   "display_name": "Python 3.7.7 64-bit"
  }
 },
 "cells": [
  {
   "cell_type": "code",
   "execution_count": 11,
   "metadata": {},
   "outputs": [
    {
     "output_type": "execute_result",
     "data": {
      "text/plain": "   Year     Month        State         County  Rate\n0  2015  February  Mississippi  Newton County   6.1\n1  2015  February  Mississippi  Panola County   9.4\n2  2015  February  Mississippi  Monroe County   7.9\n3  2015  February  Mississippi   Hinds County   6.1\n4  2015  February  Mississippi  Kemper County  10.6",
      "text/html": "<div>\n<style scoped>\n    .dataframe tbody tr th:only-of-type {\n        vertical-align: middle;\n    }\n\n    .dataframe tbody tr th {\n        vertical-align: top;\n    }\n\n    .dataframe thead th {\n        text-align: right;\n    }\n</style>\n<table border=\"1\" class=\"dataframe\">\n  <thead>\n    <tr style=\"text-align: right;\">\n      <th></th>\n      <th>Year</th>\n      <th>Month</th>\n      <th>State</th>\n      <th>County</th>\n      <th>Rate</th>\n    </tr>\n  </thead>\n  <tbody>\n    <tr>\n      <th>0</th>\n      <td>2015</td>\n      <td>February</td>\n      <td>Mississippi</td>\n      <td>Newton County</td>\n      <td>6.1</td>\n    </tr>\n    <tr>\n      <th>1</th>\n      <td>2015</td>\n      <td>February</td>\n      <td>Mississippi</td>\n      <td>Panola County</td>\n      <td>9.4</td>\n    </tr>\n    <tr>\n      <th>2</th>\n      <td>2015</td>\n      <td>February</td>\n      <td>Mississippi</td>\n      <td>Monroe County</td>\n      <td>7.9</td>\n    </tr>\n    <tr>\n      <th>3</th>\n      <td>2015</td>\n      <td>February</td>\n      <td>Mississippi</td>\n      <td>Hinds County</td>\n      <td>6.1</td>\n    </tr>\n    <tr>\n      <th>4</th>\n      <td>2015</td>\n      <td>February</td>\n      <td>Mississippi</td>\n      <td>Kemper County</td>\n      <td>10.6</td>\n    </tr>\n  </tbody>\n</table>\n</div>"
     },
     "metadata": {},
     "execution_count": 11
    }
   ],
   "source": [
    "import pandas\n",
    "import numpy\n",
    "\n",
    "unemp_county = pandas.read_csv(\"unemployment-by-county-us.csv\")\n",
    "unemp_county.head()\n",
    "\n",
    ""
   ]
  },
  {
   "cell_type": "code",
   "execution_count": 21,
   "metadata": {},
   "outputs": [
    {
     "output_type": "execute_result",
     "data": {
      "text/plain": "      Alaska  Arkansas  California  Colorado  Connecticut  Delaware  \\\nYear                                                                  \n2012    8.45      6.82        8.72      8.33         9.00      7.91   \n2013    8.33      6.72        8.60      8.36         8.87      7.79   \n2014    8.20      6.61        9.52      8.46         9.20      8.20   \n2015    9.24      7.92        9.51      8.69         9.67      8.72   \n2016   10.17      8.35       10.43      8.67        10.02      8.61   \n2017   10.01      8.68       10.22      9.50        10.32      8.43   \n\n      District of Columbia  Federal (FLSA)  Guam  Hawaii  ...  Pennsylvania  \\\nYear                                                      ...                 \n2012                  9.00            7.91  7.91    7.91  ...          7.91   \n2013                  8.87            7.79  7.79    7.79  ...          7.79   \n2014                 10.05            7.67  7.67    7.67  ...          7.67   \n2015                 11.09            7.66  8.72    8.19  ...          7.66   \n2016                 12.00            7.56  8.61    8.87  ...          7.56   \n2017                 11.75            7.41  8.43    9.45  ...          7.41   \n\n      Puerto Rico  Rhode Island  South Dakota  Utah  Vermont  Washington  \\\nYear                                                                       \n2012         5.54          8.07          7.91  7.91     9.23        9.86   \n2013         5.46          8.33          7.79  7.79     9.24        9.88   \n2014         5.37          8.46          7.67  7.67     9.23        9.86   \n2015         5.37          9.51          8.98  7.66     9.67       10.00   \n2016         5.30         10.02          8.92  7.56    10.02        9.88   \n2017         5.19          9.81          8.84  7.41    10.22       11.24   \n\n      West Virginia  Wisconsin  Wyoming  \nYear                                     \n2012           7.91       7.91     5.62  \n2013           7.79       7.79     5.54  \n2014           7.67       7.67     5.45  \n2015           8.45       7.66     5.44  \n2016           9.13       7.56     5.37  \n2017           8.94       7.41     5.26  \n\n[6 rows x 39 columns]",
      "text/html": "<div>\n<style scoped>\n    .dataframe tbody tr th:only-of-type {\n        vertical-align: middle;\n    }\n\n    .dataframe tbody tr th {\n        vertical-align: top;\n    }\n\n    .dataframe thead th {\n        text-align: right;\n    }\n</style>\n<table border=\"1\" class=\"dataframe\">\n  <thead>\n    <tr style=\"text-align: right;\">\n      <th></th>\n      <th>Alaska</th>\n      <th>Arkansas</th>\n      <th>California</th>\n      <th>Colorado</th>\n      <th>Connecticut</th>\n      <th>Delaware</th>\n      <th>District of Columbia</th>\n      <th>Federal (FLSA)</th>\n      <th>Guam</th>\n      <th>Hawaii</th>\n      <th>...</th>\n      <th>Pennsylvania</th>\n      <th>Puerto Rico</th>\n      <th>Rhode Island</th>\n      <th>South Dakota</th>\n      <th>Utah</th>\n      <th>Vermont</th>\n      <th>Washington</th>\n      <th>West Virginia</th>\n      <th>Wisconsin</th>\n      <th>Wyoming</th>\n    </tr>\n    <tr>\n      <th>Year</th>\n      <th></th>\n      <th></th>\n      <th></th>\n      <th></th>\n      <th></th>\n      <th></th>\n      <th></th>\n      <th></th>\n      <th></th>\n      <th></th>\n      <th></th>\n      <th></th>\n      <th></th>\n      <th></th>\n      <th></th>\n      <th></th>\n      <th></th>\n      <th></th>\n      <th></th>\n      <th></th>\n      <th></th>\n    </tr>\n  </thead>\n  <tbody>\n    <tr>\n      <th>2012</th>\n      <td>8.45</td>\n      <td>6.82</td>\n      <td>8.72</td>\n      <td>8.33</td>\n      <td>9.00</td>\n      <td>7.91</td>\n      <td>9.00</td>\n      <td>7.91</td>\n      <td>7.91</td>\n      <td>7.91</td>\n      <td>...</td>\n      <td>7.91</td>\n      <td>5.54</td>\n      <td>8.07</td>\n      <td>7.91</td>\n      <td>7.91</td>\n      <td>9.23</td>\n      <td>9.86</td>\n      <td>7.91</td>\n      <td>7.91</td>\n      <td>5.62</td>\n    </tr>\n    <tr>\n      <th>2013</th>\n      <td>8.33</td>\n      <td>6.72</td>\n      <td>8.60</td>\n      <td>8.36</td>\n      <td>8.87</td>\n      <td>7.79</td>\n      <td>8.87</td>\n      <td>7.79</td>\n      <td>7.79</td>\n      <td>7.79</td>\n      <td>...</td>\n      <td>7.79</td>\n      <td>5.46</td>\n      <td>8.33</td>\n      <td>7.79</td>\n      <td>7.79</td>\n      <td>9.24</td>\n      <td>9.88</td>\n      <td>7.79</td>\n      <td>7.79</td>\n      <td>5.54</td>\n    </tr>\n    <tr>\n      <th>2014</th>\n      <td>8.20</td>\n      <td>6.61</td>\n      <td>9.52</td>\n      <td>8.46</td>\n      <td>9.20</td>\n      <td>8.20</td>\n      <td>10.05</td>\n      <td>7.67</td>\n      <td>7.67</td>\n      <td>7.67</td>\n      <td>...</td>\n      <td>7.67</td>\n      <td>5.37</td>\n      <td>8.46</td>\n      <td>7.67</td>\n      <td>7.67</td>\n      <td>9.23</td>\n      <td>9.86</td>\n      <td>7.67</td>\n      <td>7.67</td>\n      <td>5.45</td>\n    </tr>\n    <tr>\n      <th>2015</th>\n      <td>9.24</td>\n      <td>7.92</td>\n      <td>9.51</td>\n      <td>8.69</td>\n      <td>9.67</td>\n      <td>8.72</td>\n      <td>11.09</td>\n      <td>7.66</td>\n      <td>8.72</td>\n      <td>8.19</td>\n      <td>...</td>\n      <td>7.66</td>\n      <td>5.37</td>\n      <td>9.51</td>\n      <td>8.98</td>\n      <td>7.66</td>\n      <td>9.67</td>\n      <td>10.00</td>\n      <td>8.45</td>\n      <td>7.66</td>\n      <td>5.44</td>\n    </tr>\n    <tr>\n      <th>2016</th>\n      <td>10.17</td>\n      <td>8.35</td>\n      <td>10.43</td>\n      <td>8.67</td>\n      <td>10.02</td>\n      <td>8.61</td>\n      <td>12.00</td>\n      <td>7.56</td>\n      <td>8.61</td>\n      <td>8.87</td>\n      <td>...</td>\n      <td>7.56</td>\n      <td>5.30</td>\n      <td>10.02</td>\n      <td>8.92</td>\n      <td>7.56</td>\n      <td>10.02</td>\n      <td>9.88</td>\n      <td>9.13</td>\n      <td>7.56</td>\n      <td>5.37</td>\n    </tr>\n    <tr>\n      <th>2017</th>\n      <td>10.01</td>\n      <td>8.68</td>\n      <td>10.22</td>\n      <td>9.50</td>\n      <td>10.32</td>\n      <td>8.43</td>\n      <td>11.75</td>\n      <td>7.41</td>\n      <td>8.43</td>\n      <td>9.45</td>\n      <td>...</td>\n      <td>7.41</td>\n      <td>5.19</td>\n      <td>9.81</td>\n      <td>8.84</td>\n      <td>7.41</td>\n      <td>10.22</td>\n      <td>11.24</td>\n      <td>8.94</td>\n      <td>7.41</td>\n      <td>5.26</td>\n    </tr>\n  </tbody>\n</table>\n<p>6 rows × 39 columns</p>\n</div>"
     },
     "metadata": {},
     "execution_count": 21
    }
   ],
   "source": [
    "dataFrame = pandas.read_csv(\"us-minimum.zip\", encoding='latin')\n",
    "\n",
    "act_min_wage = pandas.DataFrame()\n",
    "\n",
    "for name, group in dataFrame.groupby(\"State\"):\n",
    "    if act_min_wage.empty:\n",
    "        act_min_wage = group.set_index(\"Year\")[[\"Low.2018\"]].rename(columns={\"Low.2018\":name})\n",
    "    else:\n",
    "        act_min_wage = act_min_wage.join(group.set_index(\"Year\")[[\"Low.2018\"]].rename(columns={\"Low.2018\":name}))\n",
    "\n",
    "act_min_wage = act_min_wage.replace(0, numpy.NaN).dropna(axis=1)\n",
    "act_min_wage.tail(6)"
   ]
  },
  {
   "cell_type": "code",
   "execution_count": 19,
   "metadata": {},
   "outputs": [
    {
     "output_type": "execute_result",
     "data": {
      "text/plain": "8.33"
     },
     "metadata": {},
     "execution_count": 19
    }
   ],
   "source": [
    "def get_min_wage(year, state):\n",
    "    try:\n",
    "        return act_min_wage.loc[year][state]\n",
    "    except:\n",
    "        return numpy.NaN\n",
    "\n",
    "get_min_wage(2012, \"Colorado\")"
   ]
  },
  {
   "cell_type": "code",
   "execution_count": 26,
   "metadata": {},
   "outputs": [
    {
     "output_type": "stream",
     "name": "stdout",
     "text": "Wall time: 1min 43s\n"
    }
   ],
   "source": [
    "%%time\n",
    "\n",
    "unemp_county['min_wage'] = list(map(get_min_wage, unemp_county['Year'], unemp_county['State']))"
   ]
  },
  {
   "cell_type": "code",
   "execution_count": 31,
   "metadata": {},
   "outputs": [
    {
     "output_type": "execute_result",
     "data": {
      "text/plain": "              Rate  min_wage\nRate      1.000000  0.153047\nmin_wage  0.153047  1.000000",
      "text/html": "<div>\n<style scoped>\n    .dataframe tbody tr th:only-of-type {\n        vertical-align: middle;\n    }\n\n    .dataframe tbody tr th {\n        vertical-align: top;\n    }\n\n    .dataframe thead th {\n        text-align: right;\n    }\n</style>\n<table border=\"1\" class=\"dataframe\">\n  <thead>\n    <tr style=\"text-align: right;\">\n      <th></th>\n      <th>Rate</th>\n      <th>min_wage</th>\n    </tr>\n  </thead>\n  <tbody>\n    <tr>\n      <th>Rate</th>\n      <td>1.000000</td>\n      <td>0.153047</td>\n    </tr>\n    <tr>\n      <th>min_wage</th>\n      <td>0.153047</td>\n      <td>1.000000</td>\n    </tr>\n  </tbody>\n</table>\n</div>"
     },
     "metadata": {},
     "execution_count": 31
    }
   ],
   "source": [
    "unemp_county[['Rate', 'min_wage']].corr()"
   ]
  },
  {
   "cell_type": "code",
   "execution_count": 30,
   "metadata": {},
   "outputs": [
    {
     "output_type": "execute_result",
     "data": {
      "text/plain": "              Rate  min_wage\nRate      9.687873  0.651586\nmin_wage  0.651586  1.874228",
      "text/html": "<div>\n<style scoped>\n    .dataframe tbody tr th:only-of-type {\n        vertical-align: middle;\n    }\n\n    .dataframe tbody tr th {\n        vertical-align: top;\n    }\n\n    .dataframe thead th {\n        text-align: right;\n    }\n</style>\n<table border=\"1\" class=\"dataframe\">\n  <thead>\n    <tr style=\"text-align: right;\">\n      <th></th>\n      <th>Rate</th>\n      <th>min_wage</th>\n    </tr>\n  </thead>\n  <tbody>\n    <tr>\n      <th>Rate</th>\n      <td>9.687873</td>\n      <td>0.651586</td>\n    </tr>\n    <tr>\n      <th>min_wage</th>\n      <td>0.651586</td>\n      <td>1.874228</td>\n    </tr>\n  </tbody>\n</table>\n</div>"
     },
     "metadata": {},
     "execution_count": 30
    }
   ],
   "source": [
    "unemp_county[['Rate', 'min_wage']].cov()"
   ]
  },
  {
   "cell_type": "code",
   "execution_count": 33,
   "metadata": {},
   "outputs": [
    {
     "output_type": "execute_result",
     "data": {
      "text/plain": "  county fips             cand  st  pct_report       votes  total_votes  \\\n0    NaN   US     Donald Trump  US      0.9951  60350241.0  127592176.0   \n1    NaN   US  Hillary Clinton  US      0.9951  60981118.0  127592176.0   \n2    NaN   US     Gary Johnson  US      0.9951   4164589.0  127592176.0   \n3    NaN   US       Jill Stein  US      0.9951   1255968.0  127592176.0   \n4    NaN   US    Evan McMullin  US      0.9951    451636.0  127592176.0   \n\n        pct          lead  \n0  0.472993  Donald Trump  \n1  0.477938  Donald Trump  \n2  0.032640  Donald Trump  \n3  0.009844  Donald Trump  \n4  0.003540  Donald Trump  ",
      "text/html": "<div>\n<style scoped>\n    .dataframe tbody tr th:only-of-type {\n        vertical-align: middle;\n    }\n\n    .dataframe tbody tr th {\n        vertical-align: top;\n    }\n\n    .dataframe thead th {\n        text-align: right;\n    }\n</style>\n<table border=\"1\" class=\"dataframe\">\n  <thead>\n    <tr style=\"text-align: right;\">\n      <th></th>\n      <th>county</th>\n      <th>fips</th>\n      <th>cand</th>\n      <th>st</th>\n      <th>pct_report</th>\n      <th>votes</th>\n      <th>total_votes</th>\n      <th>pct</th>\n      <th>lead</th>\n    </tr>\n  </thead>\n  <tbody>\n    <tr>\n      <th>0</th>\n      <td>NaN</td>\n      <td>US</td>\n      <td>Donald Trump</td>\n      <td>US</td>\n      <td>0.9951</td>\n      <td>60350241.0</td>\n      <td>127592176.0</td>\n      <td>0.472993</td>\n      <td>Donald Trump</td>\n    </tr>\n    <tr>\n      <th>1</th>\n      <td>NaN</td>\n      <td>US</td>\n      <td>Hillary Clinton</td>\n      <td>US</td>\n      <td>0.9951</td>\n      <td>60981118.0</td>\n      <td>127592176.0</td>\n      <td>0.477938</td>\n      <td>Donald Trump</td>\n    </tr>\n    <tr>\n      <th>2</th>\n      <td>NaN</td>\n      <td>US</td>\n      <td>Gary Johnson</td>\n      <td>US</td>\n      <td>0.9951</td>\n      <td>4164589.0</td>\n      <td>127592176.0</td>\n      <td>0.032640</td>\n      <td>Donald Trump</td>\n    </tr>\n    <tr>\n      <th>3</th>\n      <td>NaN</td>\n      <td>US</td>\n      <td>Jill Stein</td>\n      <td>US</td>\n      <td>0.9951</td>\n      <td>1255968.0</td>\n      <td>127592176.0</td>\n      <td>0.009844</td>\n      <td>Donald Trump</td>\n    </tr>\n    <tr>\n      <th>4</th>\n      <td>NaN</td>\n      <td>US</td>\n      <td>Evan McMullin</td>\n      <td>US</td>\n      <td>0.9951</td>\n      <td>451636.0</td>\n      <td>127592176.0</td>\n      <td>0.003540</td>\n      <td>Donald Trump</td>\n    </tr>\n  </tbody>\n</table>\n</div>"
     },
     "metadata": {},
     "execution_count": 33
    }
   ],
   "source": [
    "pres16 = pandas.read_csv(\"pres16results.csv\")\n",
    "pres16.head()"
   ]
  },
  {
   "cell_type": "code",
   "execution_count": 35,
   "metadata": {},
   "outputs": [
    {
     "output_type": "execute_result",
     "data": {
      "text/plain": "885548"
     },
     "metadata": {},
     "execution_count": 35
    }
   ],
   "source": [
    "len(unemp_county)"
   ]
  },
  {
   "cell_type": "code",
   "execution_count": 36,
   "metadata": {},
   "outputs": [],
   "source": [
    "county_2015 = unemp_county[(unemp_county['Year']==2015) & (unemp_county['Month']=='February')]"
   ]
  },
  {
   "cell_type": "code",
   "execution_count": 38,
   "metadata": {},
   "outputs": [
    {
     "output_type": "execute_result",
     "data": {
      "text/plain": "   Year     Month        State         County  Rate  min_wage\n0  2015  February  Mississippi  Newton County   6.1       NaN\n1  2015  February  Mississippi  Panola County   9.4       NaN\n2  2015  February  Mississippi  Monroe County   7.9       NaN\n3  2015  February  Mississippi   Hinds County   6.1       NaN\n4  2015  February  Mississippi  Kemper County  10.6       NaN",
      "text/html": "<div>\n<style scoped>\n    .dataframe tbody tr th:only-of-type {\n        vertical-align: middle;\n    }\n\n    .dataframe tbody tr th {\n        vertical-align: top;\n    }\n\n    .dataframe thead th {\n        text-align: right;\n    }\n</style>\n<table border=\"1\" class=\"dataframe\">\n  <thead>\n    <tr style=\"text-align: right;\">\n      <th></th>\n      <th>Year</th>\n      <th>Month</th>\n      <th>State</th>\n      <th>County</th>\n      <th>Rate</th>\n      <th>min_wage</th>\n    </tr>\n  </thead>\n  <tbody>\n    <tr>\n      <th>0</th>\n      <td>2015</td>\n      <td>February</td>\n      <td>Mississippi</td>\n      <td>Newton County</td>\n      <td>6.1</td>\n      <td>NaN</td>\n    </tr>\n    <tr>\n      <th>1</th>\n      <td>2015</td>\n      <td>February</td>\n      <td>Mississippi</td>\n      <td>Panola County</td>\n      <td>9.4</td>\n      <td>NaN</td>\n    </tr>\n    <tr>\n      <th>2</th>\n      <td>2015</td>\n      <td>February</td>\n      <td>Mississippi</td>\n      <td>Monroe County</td>\n      <td>7.9</td>\n      <td>NaN</td>\n    </tr>\n    <tr>\n      <th>3</th>\n      <td>2015</td>\n      <td>February</td>\n      <td>Mississippi</td>\n      <td>Hinds County</td>\n      <td>6.1</td>\n      <td>NaN</td>\n    </tr>\n    <tr>\n      <th>4</th>\n      <td>2015</td>\n      <td>February</td>\n      <td>Mississippi</td>\n      <td>Kemper County</td>\n      <td>10.6</td>\n      <td>NaN</td>\n    </tr>\n  </tbody>\n</table>\n</div>"
     },
     "metadata": {},
     "execution_count": 38
    }
   ],
   "source": [
    "county_2015.head()"
   ]
  },
  {
   "cell_type": "code",
   "execution_count": null,
   "metadata": {},
   "outputs": [],
   "source": []
  }
 ]
}