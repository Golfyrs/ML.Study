{
 "nbformat": 4,
 "nbformat_minor": 2,
 "metadata": {
  "language_info": {
   "name": "python",
   "codemirror_mode": {
    "name": "ipython",
    "version": 3
   },
   "version": "3.7.7-final"
  },
  "orig_nbformat": 2,
  "file_extension": ".py",
  "mimetype": "text/x-python",
  "name": "python",
  "npconvert_exporter": "python",
  "pygments_lexer": "ipython3",
  "version": 3,
  "kernelspec": {
   "name": "python37764bit482021fea1c847e3a486dbbd075e16c7",
   "display_name": "Python 3.7.7 64-bit"
  }
 },
 "cells": [
  {
   "cell_type": "markdown",
   "metadata": {},
   "source": [
    "# Console-command:  <br>tensorboard --logdir logs/fit"
   ]
  },
  {
   "cell_type": "code",
   "execution_count": 1,
   "metadata": {},
   "outputs": [
    {
     "output_type": "execute_result",
     "data": {
      "text/plain": "[PhysicalDevice(name='/physical_device:GPU:0', device_type='GPU')]"
     },
     "metadata": {},
     "execution_count": 1
    }
   ],
   "source": [
    "import tensorflow\n",
    "\n",
    "tensorflow.config.experimental.list_physical_devices('GPU')\n",
    "print(\"Num GPUs Available: \", len(tensorflow.config.experimental.list_physical_devices('GPU')))"
   ]
  },
  {
   "cell_type": "code",
   "execution_count": 3,
   "metadata": {},
   "outputs": [],
   "source": [
    "from tensorflow.keras.models import  Sequential\n",
    "from tensorflow.keras.layers import  Dense, Dropout, Activation, Conv2D, Flatten, MaxPooling2D\n",
    "from tensorflow.keras.callbacks import TensorBoard\n",
    "import time\n",
    "import datetime\n",
    "import pickle\n",
    "from numpy import array\n",
    "\n",
    "pickle_in = open(\"x_train.pickle\", \"rb\")\n",
    "x_train = pickle.load(pickle_in)\n",
    "\n",
    "pickle_in = open(\"x_test.pickle\", \"rb\")\n",
    "x_test = pickle.load(pickle_in)\n",
    "\n",
    "pickle_in = open(\"y_train.pickle\", \"rb\")\n",
    "y_train = array(pickle.load(pickle_in))\n",
    "\n",
    "pickle_in = open(\"y_test.pickle\", \"rb\")\n",
    "y_test = array(pickle.load(pickle_in))\n",
    "\n",
    "# Normalize\n",
    "\n",
    "x_train = x_train / 255.0\n",
    "x_test = x_test / 255.0\n",
    "#x_train = tensorflow.keras.utils.normalize(x_train, axis = 1) # try to use TS.normalize\n",
    "#x_test = tensorflow.keras.utils.normalize(x_test, axis = 1)"
   ]
  },
  {
   "cell_type": "code",
   "execution_count": 4,
   "metadata": {},
   "outputs": [],
   "source": [
    "# Build model\n",
    "\n",
    "model = Sequential()\n",
    "\n",
    "model.add( Conv2D(256, (3,3), input_shape = x_train.shape[1:]) )\n",
    "model.add( Activation('relu') )\n",
    "model.add( MaxPooling2D(pool_size=(2,2)) )\n",
    "\n",
    "model.add( Conv2D(256, (3,3) ))\n",
    "model.add( Activation('relu') )\n",
    "model.add( MaxPooling2D(pool_size=(2,2)) )\n",
    "\n",
    "model.add( Flatten() )\n",
    "model.add( Dense(64) )\n",
    "model.add( Activation('relu') )\n",
    "\n",
    "model.add( Dense(1) )\n",
    "model.add( Activation('sigmoid') )\n",
    "\n",
    "#optimizer='rmsprop',\n",
    "#loss='categorical_crossentropy',\n",
    "model.compile(loss='binary_crossentropy',\n",
    "              optimizer='rmsprop',\n",
    "              metrics=['accuracy'])"
   ]
  },
  {
   "cell_type": "code",
   "execution_count": 5,
   "metadata": {},
   "outputs": [
    {
     "output_type": "stream",
     "name": "stdout",
     "text": "Train on 15964 samples, validate on 3992 samples\nEpoch 1/20\n15964/15964 [==============================] - 17s 1ms/sample - loss: 0.6452 - accuracy: 0.6295 - val_loss: 0.5767 - val_accuracy: 0.6976\nEpoch 2/20\n15964/15964 [==============================] - 14s 890us/sample - loss: 0.5369 - accuracy: 0.7342 - val_loss: 0.5238 - val_accuracy: 0.7395\nEpoch 3/20\n15964/15964 [==============================] - 14s 896us/sample - loss: 0.4826 - accuracy: 0.7735 - val_loss: 0.4669 - val_accuracy: 0.7846\nEpoch 4/20\n15964/15964 [==============================] - 14s 890us/sample - loss: 0.4337 - accuracy: 0.7990 - val_loss: 0.4703 - val_accuracy: 0.7786\nEpoch 5/20\n15964/15964 [==============================] - 14s 886us/sample - loss: 0.3845 - accuracy: 0.8275 - val_loss: 0.4898 - val_accuracy: 0.7698\nEpoch 6/20\n15964/15964 [==============================] - 14s 886us/sample - loss: 0.3336 - accuracy: 0.8539 - val_loss: 0.4719 - val_accuracy: 0.7883\nEpoch 7/20\n15964/15964 [==============================] - 14s 881us/sample - loss: 0.2769 - accuracy: 0.8849 - val_loss: 0.5067 - val_accuracy: 0.7908\nEpoch 8/20\n15964/15964 [==============================] - 14s 880us/sample - loss: 0.2276 - accuracy: 0.9053 - val_loss: 0.5861 - val_accuracy: 0.7853\nEpoch 9/20\n15964/15964 [==============================] - 14s 876us/sample - loss: 0.1819 - accuracy: 0.9282 - val_loss: 0.6894 - val_accuracy: 0.7906\nEpoch 10/20\n15964/15964 [==============================] - 14s 894us/sample - loss: 0.1397 - accuracy: 0.9472 - val_loss: 0.7513 - val_accuracy: 0.7873\nEpoch 11/20\n15964/15964 [==============================] - 14s 885us/sample - loss: 0.1115 - accuracy: 0.9565 - val_loss: 1.0328 - val_accuracy: 0.7703\nEpoch 12/20\n15964/15964 [==============================] - 14s 848us/sample - loss: 0.0905 - accuracy: 0.9679 - val_loss: 0.7698 - val_accuracy: 0.7660\nEpoch 13/20\n15964/15964 [==============================] - 14s 877us/sample - loss: 0.0738 - accuracy: 0.9746 - val_loss: 0.9516 - val_accuracy: 0.7462\nEpoch 14/20\n15964/15964 [==============================] - 14s 901us/sample - loss: 0.0693 - accuracy: 0.9764 - val_loss: 1.0624 - val_accuracy: 0.7753\nEpoch 15/20\n15964/15964 [==============================] - 14s 882us/sample - loss: 0.0546 - accuracy: 0.9822 - val_loss: 1.0034 - val_accuracy: 0.7693\nEpoch 16/20\n15964/15964 [==============================] - 14s 899us/sample - loss: 0.0496 - accuracy: 0.9855 - val_loss: 1.5280 - val_accuracy: 0.7543\nEpoch 17/20\n15964/15964 [==============================] - 14s 894us/sample - loss: 0.0497 - accuracy: 0.9845 - val_loss: 1.3758 - val_accuracy: 0.7843\nEpoch 18/20\n15964/15964 [==============================] - 14s 900us/sample - loss: 0.0527 - accuracy: 0.9852 - val_loss: 1.5847 - val_accuracy: 0.7876\nEpoch 19/20\n15964/15964 [==============================] - 14s 900us/sample - loss: 0.0443 - accuracy: 0.9867 - val_loss: 1.8437 - val_accuracy: 0.7813\nEpoch 20/20\n15964/15964 [==============================] - 14s 903us/sample - loss: 0.0450 - accuracy: 0.9860 - val_loss: 1.6551 - val_accuracy: 0.7788\n4990/4990 - 1s - loss: 1.7249 - accuracy: 0.7762\n"
    },
    {
     "output_type": "execute_result",
     "data": {
      "text/plain": "[1.7249094851270228, 0.7761523]"
     },
     "metadata": {},
     "execution_count": 5
    }
   ],
   "source": [
    "\n",
    "log_dir = \"logs\\\\fit\\\\\" + datetime.datetime.now().strftime(\"%Y%m%d-%H%M%S\")\n",
    "tensorboard_callback = TensorBoard(log_dir=log_dir, histogram_freq=1)\n",
    "\n",
    "model.fit(x_train, y_train, batch_size=32, epochs=20, validation_split=0.2, callbacks=[tensorboard_callback])\n",
    "model.evaluate(x_test, y_test, verbose=2)"
   ]
  },
  {
   "cell_type": "markdown",
   "metadata": {},
   "source": [
    "# Enter in serch: \\w"
   ]
  },
  {
   "cell_type": "code",
   "execution_count": null,
   "metadata": {},
   "outputs": [],
   "source": [
    "# training with epochs and display graph accuracy for every epochs \n",
    "\n",
    "import time\n",
    "import matplotlib.pyplot as plt\n",
    "import numpy\n",
    "\n",
    "start = time.clock()\n",
    "\n",
    "epochs = 4\n",
    "training_accuracy = []\n",
    "test_accuracy = []\n",
    "\n",
    "for i in range(epochs):\n",
    "    print(\"_________________________\")\n",
    "    print(\"Epochs: \", i + 1)\n",
    "\n",
    "    training_result = model.fit(x_train, y_train, batch_size=32, epochs=1, validation_split=0.2)\n",
    "    test_result = model.evaluate(x_test, y_test, verbose=2)\n",
    "\n",
    "    training_accuracy.append(training_result.history['accuracy'])\n",
    "    test_accuracy.append(test_result[1])\n",
    "\n",
    "\n",
    "epochs_list = numpy.arange(epochs)\n",
    "plt.ylabel('Accuracy')\n",
    "plt.xlabel('Epochs')\n",
    "plt.plot(epochs_list, training_accuracy, label='Training')\n",
    "plt.plot(epochs_list, test_accuracy, label='Test')\n",
    "plt.grid(True)\n",
    "plt.legend()\n",
    "plt.show()\n",
    "\n",
    "\n",
    "end = time.clock()\n",
    "print(end - start)"
   ]
  },
  {
   "cell_type": "code",
   "execution_count": null,
   "metadata": {},
   "outputs": [],
   "source": []
  },
  {
   "cell_type": "code",
   "execution_count": null,
   "metadata": {},
   "outputs": [],
   "source": []
  },
  {
   "cell_type": "code",
   "execution_count": null,
   "metadata": {},
   "outputs": [],
   "source": []
  }
 ]
}