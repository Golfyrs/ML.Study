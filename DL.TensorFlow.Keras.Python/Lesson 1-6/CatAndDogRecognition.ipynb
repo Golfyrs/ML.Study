{
 "nbformat": 4,
 "nbformat_minor": 2,
 "metadata": {
  "language_info": {
   "name": "python",
   "codemirror_mode": {
    "name": "ipython",
    "version": 3
   },
   "version": "3.7.7-final"
  },
  "orig_nbformat": 2,
  "file_extension": ".py",
  "mimetype": "text/x-python",
  "name": "python",
  "npconvert_exporter": "python",
  "pygments_lexer": "ipython3",
  "version": 3,
  "kernelspec": {
   "name": "python37764bit482021fea1c847e3a486dbbd075e16c7",
   "display_name": "Python 3.7.7 64-bit"
  }
 },
 "cells": [
  {
   "cell_type": "code",
   "execution_count": 1,
   "metadata": {},
   "outputs": [],
   "source": [
    "import numpy\n",
    "import matplotlib.pyplot as plot\n",
    "import os\n",
    "import cv2\n",
    "import tensorflow as tf\n",
    "\n",
    "DATADIR = \"PetImages\"\n",
    "CATEGORIES = [\"Dog\", \"Cat\"]\n",
    "\n",
    "for category in CATEGORIES:\n",
    "    path = os.path.join(DATADIR, category)\n",
    "    for image in os.listdir(path):\n",
    "        images = cv2.imread(os.path.join(path, image), cv2.IMREAD_GRAYSCALE) # Попробовать без перевода в серый\n",
    "        break\n",
    "    break"
   ]
  },
  {
   "cell_type": "code",
   "execution_count": 2,
   "metadata": {},
   "outputs": [
    {
     "output_type": "display_data",
     "data": {
      "text/plain": "<Figure size 432x288 with 1 Axes>",
      "image/svg+xml": "<?xml version=\"1.0\" encoding=\"utf-8\" standalone=\"no\"?>\r\n<!DOCTYPE svg PUBLIC \"-//W3C//DTD SVG 1.1//EN\"\r\n  \"http://www.w3.org/Graphics/SVG/1.1/DTD/svg11.dtd\">\r\n<!-- Created with matplotlib (https://matplotlib.org/) -->\r\n<svg height=\"250.142944pt\" version=\"1.1\" viewBox=\"0 0 251.565 250.142944\" width=\"251.565pt\" xmlns=\"http://www.w3.org/2000/svg\" xmlns:xlink=\"http://www.w3.org/1999/xlink\">\r\n <defs>\r\n  <style type=\"text/css\">\r\n*{stroke-linecap:butt;stroke-linejoin:round;}\r\n  </style>\r\n </defs>\r\n <g id=\"figure_1\">\r\n  <g id=\"patch_1\">\r\n   <path d=\"M 0 250.142944 \r\nL 251.565 250.142944 \r\nL 251.565 0 \r\nL 0 0 \r\nz\r\n\" style=\"fill:none;\"/>\r\n  </g>\r\n  <g id=\"axes_1\">\r\n   <g id=\"patch_2\">\r\n    <path d=\"M 26.925 226.264819 \r\nL 244.365 226.264819 \r\nL 244.365 8.824819 \r\nL 26.925 8.824819 \r\nz\r\n\" style=\"fill:#ffffff;\"/>\r\n   </g>\r\n   <g clip-path=\"url(#pa2abaf2e77)\">\r\n    <image height=\"218\" id=\"image64db7f6658\" transform=\"scale(1 -1)translate(0 -218)\" width=\"218\" x=\"26.925\" xlink:href=\"data:image/png;base64,\r\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\" y=\"-8.264819\"/>\r\n   </g>\r\n   <g id=\"matplotlib.axis_1\">\r\n    <g id=\"xtick_1\">\r\n     <g id=\"line2d_1\">\r\n      <defs>\r\n       <path d=\"M 0 0 \r\nL 0 3.5 \r\n\" id=\"mf56963ed89\" style=\"stroke:#000000;stroke-width:0.8;\"/>\r\n      </defs>\r\n      <g>\r\n       <use style=\"stroke:#000000;stroke-width:0.8;\" x=\"29.0994\" xlink:href=\"#mf56963ed89\" y=\"226.264819\"/>\r\n      </g>\r\n     </g>\r\n     <g id=\"text_1\">\r\n      <!-- 0 -->\r\n      <defs>\r\n       <path d=\"M 31.78125 66.40625 \r\nQ 24.171875 66.40625 20.328125 58.90625 \r\nQ 16.5 51.421875 16.5 36.375 \r\nQ 16.5 21.390625 20.328125 13.890625 \r\nQ 24.171875 6.390625 31.78125 6.390625 \r\nQ 39.453125 6.390625 43.28125 13.890625 \r\nQ 47.125 21.390625 47.125 36.375 \r\nQ 47.125 51.421875 43.28125 58.90625 \r\nQ 39.453125 66.40625 31.78125 66.40625 \r\nz\r\nM 31.78125 74.21875 \r\nQ 44.046875 74.21875 50.515625 64.515625 \r\nQ 56.984375 54.828125 56.984375 36.375 \r\nQ 56.984375 17.96875 50.515625 8.265625 \r\nQ 44.046875 -1.421875 31.78125 -1.421875 \r\nQ 19.53125 -1.421875 13.0625 8.265625 \r\nQ 6.59375 17.96875 6.59375 36.375 \r\nQ 6.59375 54.828125 13.0625 64.515625 \r\nQ 19.53125 74.21875 31.78125 74.21875 \r\nz\r\n\" id=\"DejaVuSans-48\"/>\r\n      </defs>\r\n      <g transform=\"translate(25.91815 240.863256)scale(0.1 -0.1)\">\r\n       <use xlink:href=\"#DejaVuSans-48\"/>\r\n      </g>\r\n     </g>\r\n    </g>\r\n    <g id=\"xtick_2\">\r\n     <g id=\"line2d_2\">\r\n      <g>\r\n       <use style=\"stroke:#000000;stroke-width:0.8;\" x=\"72.5874\" xlink:href=\"#mf56963ed89\" y=\"226.264819\"/>\r\n      </g>\r\n     </g>\r\n     <g id=\"text_2\">\r\n      <!-- 10 -->\r\n      <defs>\r\n       <path d=\"M 12.40625 8.296875 \r\nL 28.515625 8.296875 \r\nL 28.515625 63.921875 \r\nL 10.984375 60.40625 \r\nL 10.984375 69.390625 \r\nL 28.421875 72.90625 \r\nL 38.28125 72.90625 \r\nL 38.28125 8.296875 \r\nL 54.390625 8.296875 \r\nL 54.390625 0 \r\nL 12.40625 0 \r\nz\r\n\" id=\"DejaVuSans-49\"/>\r\n      </defs>\r\n      <g transform=\"translate(66.2249 240.863256)scale(0.1 -0.1)\">\r\n       <use xlink:href=\"#DejaVuSans-49\"/>\r\n       <use x=\"63.623047\" xlink:href=\"#DejaVuSans-48\"/>\r\n      </g>\r\n     </g>\r\n    </g>\r\n    <g id=\"xtick_3\">\r\n     <g id=\"line2d_3\">\r\n      <g>\r\n       <use style=\"stroke:#000000;stroke-width:0.8;\" x=\"116.0754\" xlink:href=\"#mf56963ed89\" y=\"226.264819\"/>\r\n      </g>\r\n     </g>\r\n     <g id=\"text_3\">\r\n      <!-- 20 -->\r\n      <defs>\r\n       <path d=\"M 19.1875 8.296875 \r\nL 53.609375 8.296875 \r\nL 53.609375 0 \r\nL 7.328125 0 \r\nL 7.328125 8.296875 \r\nQ 12.9375 14.109375 22.625 23.890625 \r\nQ 32.328125 33.6875 34.8125 36.53125 \r\nQ 39.546875 41.84375 41.421875 45.53125 \r\nQ 43.3125 49.21875 43.3125 52.78125 \r\nQ 43.3125 58.59375 39.234375 62.25 \r\nQ 35.15625 65.921875 28.609375 65.921875 \r\nQ 23.96875 65.921875 18.8125 64.3125 \r\nQ 13.671875 62.703125 7.8125 59.421875 \r\nL 7.8125 69.390625 \r\nQ 13.765625 71.78125 18.9375 73 \r\nQ 24.125 74.21875 28.421875 74.21875 \r\nQ 39.75 74.21875 46.484375 68.546875 \r\nQ 53.21875 62.890625 53.21875 53.421875 \r\nQ 53.21875 48.921875 51.53125 44.890625 \r\nQ 49.859375 40.875 45.40625 35.40625 \r\nQ 44.1875 33.984375 37.640625 27.21875 \r\nQ 31.109375 20.453125 19.1875 8.296875 \r\nz\r\n\" id=\"DejaVuSans-50\"/>\r\n      </defs>\r\n      <g transform=\"translate(109.7129 240.863256)scale(0.1 -0.1)\">\r\n       <use xlink:href=\"#DejaVuSans-50\"/>\r\n       <use x=\"63.623047\" xlink:href=\"#DejaVuSans-48\"/>\r\n      </g>\r\n     </g>\r\n    </g>\r\n    <g id=\"xtick_4\">\r\n     <g id=\"line2d_4\">\r\n      <g>\r\n       <use style=\"stroke:#000000;stroke-width:0.8;\" x=\"159.5634\" xlink:href=\"#mf56963ed89\" y=\"226.264819\"/>\r\n      </g>\r\n     </g>\r\n     <g id=\"text_4\">\r\n      <!-- 30 -->\r\n      <defs>\r\n       <path d=\"M 40.578125 39.3125 \r\nQ 47.65625 37.796875 51.625 33 \r\nQ 55.609375 28.21875 55.609375 21.1875 \r\nQ 55.609375 10.40625 48.1875 4.484375 \r\nQ 40.765625 -1.421875 27.09375 -1.421875 \r\nQ 22.515625 -1.421875 17.65625 -0.515625 \r\nQ 12.796875 0.390625 7.625 2.203125 \r\nL 7.625 11.71875 \r\nQ 11.71875 9.328125 16.59375 8.109375 \r\nQ 21.484375 6.890625 26.8125 6.890625 \r\nQ 36.078125 6.890625 40.9375 10.546875 \r\nQ 45.796875 14.203125 45.796875 21.1875 \r\nQ 45.796875 27.640625 41.28125 31.265625 \r\nQ 36.765625 34.90625 28.71875 34.90625 \r\nL 20.21875 34.90625 \r\nL 20.21875 43.015625 \r\nL 29.109375 43.015625 \r\nQ 36.375 43.015625 40.234375 45.921875 \r\nQ 44.09375 48.828125 44.09375 54.296875 \r\nQ 44.09375 59.90625 40.109375 62.90625 \r\nQ 36.140625 65.921875 28.71875 65.921875 \r\nQ 24.65625 65.921875 20.015625 65.03125 \r\nQ 15.375 64.15625 9.8125 62.3125 \r\nL 9.8125 71.09375 \r\nQ 15.4375 72.65625 20.34375 73.4375 \r\nQ 25.25 74.21875 29.59375 74.21875 \r\nQ 40.828125 74.21875 47.359375 69.109375 \r\nQ 53.90625 64.015625 53.90625 55.328125 \r\nQ 53.90625 49.265625 50.4375 45.09375 \r\nQ 46.96875 40.921875 40.578125 39.3125 \r\nz\r\n\" id=\"DejaVuSans-51\"/>\r\n      </defs>\r\n      <g transform=\"translate(153.2009 240.863256)scale(0.1 -0.1)\">\r\n       <use xlink:href=\"#DejaVuSans-51\"/>\r\n       <use x=\"63.623047\" xlink:href=\"#DejaVuSans-48\"/>\r\n      </g>\r\n     </g>\r\n    </g>\r\n    <g id=\"xtick_5\">\r\n     <g id=\"line2d_5\">\r\n      <g>\r\n       <use style=\"stroke:#000000;stroke-width:0.8;\" x=\"203.0514\" xlink:href=\"#mf56963ed89\" y=\"226.264819\"/>\r\n      </g>\r\n     </g>\r\n     <g id=\"text_5\">\r\n      <!-- 40 -->\r\n      <defs>\r\n       <path d=\"M 37.796875 64.3125 \r\nL 12.890625 25.390625 \r\nL 37.796875 25.390625 \r\nz\r\nM 35.203125 72.90625 \r\nL 47.609375 72.90625 \r\nL 47.609375 25.390625 \r\nL 58.015625 25.390625 \r\nL 58.015625 17.1875 \r\nL 47.609375 17.1875 \r\nL 47.609375 0 \r\nL 37.796875 0 \r\nL 37.796875 17.1875 \r\nL 4.890625 17.1875 \r\nL 4.890625 26.703125 \r\nz\r\n\" id=\"DejaVuSans-52\"/>\r\n      </defs>\r\n      <g transform=\"translate(196.6889 240.863256)scale(0.1 -0.1)\">\r\n       <use xlink:href=\"#DejaVuSans-52\"/>\r\n       <use x=\"63.623047\" xlink:href=\"#DejaVuSans-48\"/>\r\n      </g>\r\n     </g>\r\n    </g>\r\n   </g>\r\n   <g id=\"matplotlib.axis_2\">\r\n    <g id=\"ytick_1\">\r\n     <g id=\"line2d_6\">\r\n      <defs>\r\n       <path d=\"M 0 0 \r\nL -3.5 0 \r\n\" id=\"m52a9f984ed\" style=\"stroke:#000000;stroke-width:0.8;\"/>\r\n      </defs>\r\n      <g>\r\n       <use style=\"stroke:#000000;stroke-width:0.8;\" x=\"26.925\" xlink:href=\"#m52a9f984ed\" y=\"10.999219\"/>\r\n      </g>\r\n     </g>\r\n     <g id=\"text_6\">\r\n      <!-- 0 -->\r\n      <g transform=\"translate(13.5625 14.798437)scale(0.1 -0.1)\">\r\n       <use xlink:href=\"#DejaVuSans-48\"/>\r\n      </g>\r\n     </g>\r\n    </g>\r\n    <g id=\"ytick_2\">\r\n     <g id=\"line2d_7\">\r\n      <g>\r\n       <use style=\"stroke:#000000;stroke-width:0.8;\" x=\"26.925\" xlink:href=\"#m52a9f984ed\" y=\"54.487219\"/>\r\n      </g>\r\n     </g>\r\n     <g id=\"text_7\">\r\n      <!-- 10 -->\r\n      <g transform=\"translate(7.2 58.286437)scale(0.1 -0.1)\">\r\n       <use xlink:href=\"#DejaVuSans-49\"/>\r\n       <use x=\"63.623047\" xlink:href=\"#DejaVuSans-48\"/>\r\n      </g>\r\n     </g>\r\n    </g>\r\n    <g id=\"ytick_3\">\r\n     <g id=\"line2d_8\">\r\n      <g>\r\n       <use style=\"stroke:#000000;stroke-width:0.8;\" x=\"26.925\" xlink:href=\"#m52a9f984ed\" y=\"97.975219\"/>\r\n      </g>\r\n     </g>\r\n     <g id=\"text_8\">\r\n      <!-- 20 -->\r\n      <g transform=\"translate(7.2 101.774437)scale(0.1 -0.1)\">\r\n       <use xlink:href=\"#DejaVuSans-50\"/>\r\n       <use x=\"63.623047\" xlink:href=\"#DejaVuSans-48\"/>\r\n      </g>\r\n     </g>\r\n    </g>\r\n    <g id=\"ytick_4\">\r\n     <g id=\"line2d_9\">\r\n      <g>\r\n       <use style=\"stroke:#000000;stroke-width:0.8;\" x=\"26.925\" xlink:href=\"#m52a9f984ed\" y=\"141.463219\"/>\r\n      </g>\r\n     </g>\r\n     <g id=\"text_9\">\r\n      <!-- 30 -->\r\n      <g transform=\"translate(7.2 145.262437)scale(0.1 -0.1)\">\r\n       <use xlink:href=\"#DejaVuSans-51\"/>\r\n       <use x=\"63.623047\" xlink:href=\"#DejaVuSans-48\"/>\r\n      </g>\r\n     </g>\r\n    </g>\r\n    <g id=\"ytick_5\">\r\n     <g id=\"line2d_10\">\r\n      <g>\r\n       <use style=\"stroke:#000000;stroke-width:0.8;\" x=\"26.925\" xlink:href=\"#m52a9f984ed\" y=\"184.951219\"/>\r\n      </g>\r\n     </g>\r\n     <g id=\"text_10\">\r\n      <!-- 40 -->\r\n      <g transform=\"translate(7.2 188.750437)scale(0.1 -0.1)\">\r\n       <use xlink:href=\"#DejaVuSans-52\"/>\r\n       <use x=\"63.623047\" xlink:href=\"#DejaVuSans-48\"/>\r\n      </g>\r\n     </g>\r\n    </g>\r\n   </g>\r\n   <g id=\"patch_3\">\r\n    <path d=\"M 26.925 226.264819 \r\nL 26.925 8.824819 \r\n\" style=\"fill:none;stroke:#000000;stroke-linecap:square;stroke-linejoin:miter;stroke-width:0.8;\"/>\r\n   </g>\r\n   <g id=\"patch_4\">\r\n    <path d=\"M 244.365 226.264819 \r\nL 244.365 8.824819 \r\n\" style=\"fill:none;stroke:#000000;stroke-linecap:square;stroke-linejoin:miter;stroke-width:0.8;\"/>\r\n   </g>\r\n   <g id=\"patch_5\">\r\n    <path d=\"M 26.925 226.264819 \r\nL 244.365 226.264819 \r\n\" style=\"fill:none;stroke:#000000;stroke-linecap:square;stroke-linejoin:miter;stroke-width:0.8;\"/>\r\n   </g>\r\n   <g id=\"patch_6\">\r\n    <path d=\"M 26.925 8.824819 \r\nL 244.365 8.824819 \r\n\" style=\"fill:none;stroke:#000000;stroke-linecap:square;stroke-linejoin:miter;stroke-width:0.8;\"/>\r\n   </g>\r\n  </g>\r\n </g>\r\n <defs>\r\n  <clipPath id=\"pa2abaf2e77\">\r\n   <rect height=\"217.44\" width=\"217.44\" x=\"26.925\" y=\"8.824819\"/>\r\n  </clipPath>\r\n </defs>\r\n</svg>\r\n",
      "image/png": "[encoded data removed]"
     },
     "metadata": {
      "needs_background": "light"
     }
    }
   ],
   "source": [
    "IMG_SIZE = 50 # change to 120\n",
    "\n",
    "images_compression = cv2.resize(images, (IMG_SIZE, IMG_SIZE))\n",
    "plot.imshow(images_compression, cmap='gray')\n",
    "plot.show()"
   ]
  },
  {
   "cell_type": "code",
   "execution_count": 3,
   "metadata": {},
   "outputs": [],
   "source": [
    "IMG_SIZE = 50 # change to 120\n",
    "\n",
    "data = []\n",
    "\n",
    "def load_data():   \n",
    "    for category in CATEGORIES:\n",
    "        path = os.path.join(DATADIR, category)\n",
    "        category_index = CATEGORIES.index(category)\n",
    "\n",
    "        for image in os.listdir(path):\n",
    "            gray_image = cv2.imread(os.path.join(path, image), cv2.IMREAD_GRAYSCALE)\n",
    "            if gray_image is None:\n",
    "                continue\n",
    "            compression_image = cv2.resize(gray_image, (IMG_SIZE, IMG_SIZE))\n",
    "            data.append([compression_image, category_index])\n",
    "\n",
    "load_data()"
   ]
  },
  {
   "cell_type": "code",
   "execution_count": null,
   "metadata": {},
   "outputs": [],
   "source": [
    "data = []\n",
    "\n",
    "def create_training_data():\n",
    "    for category in CATEGORIES:  # do dogs and cats\n",
    "\n",
    "        path = os.path.join(DATADIR,category)  # create path to dogs and cats\n",
    "        class_num = CATEGORIES.index(category)  # get the classification  (0 or a 1). 0=dog 1=cat\n",
    "\n",
    "        for img in os.listdir(path):  # iterate over each image per dogs and cats\n",
    "            try:\n",
    "                img_array = cv2.imread(os.path.join(path,img) ,cv2.IMREAD_GRAYSCALE)  # convert to array\n",
    "                new_array = cv2.resize(img_array, (IMG_SIZE, IMG_SIZE))  # resize to normalize data size\n",
    "                data.append([new_array, class_num])  # add this to our training_data\n",
    "            except Exception as e:  # in the interest in keeping the output clean...\n",
    "                pass\n",
    "            #except OSError as e:\n",
    "            #    print(\"OSErrroBad img most likely\", e, os.path.join(path,img))\n",
    "            #except Exception as e:\n",
    "            #    print(\"general exception\", e, os.path.join(path,img))\n",
    "\n",
    "create_training_data()\n",
    "\n",
    "print(len(data))"
   ]
  },
  {
   "cell_type": "code",
   "execution_count": 4,
   "metadata": {},
   "outputs": [
    {
     "output_type": "stream",
     "name": "stdout",
     "text": "24946\n"
    }
   ],
   "source": [
    "print(len(data))"
   ]
  },
  {
   "cell_type": "code",
   "execution_count": null,
   "metadata": {},
   "outputs": [],
   "source": [
    "#shuffled_data = tf.random.shuffle(data)\n",
    "\n",
    "#x_train, x_test = tf.split(tf.random.shuffle(data), len(data) * 0.6)"
   ]
  },
  {
   "cell_type": "code",
   "execution_count": 5,
   "metadata": {},
   "outputs": [],
   "source": [
    "import random\n",
    "\n",
    "random.shuffle(data)"
   ]
  },
  {
   "cell_type": "code",
   "execution_count": 6,
   "metadata": {
    "tags": [
     "outputPrepend",
     "outputPrepend",
     "outputPrepend",
     "outputPrepend",
     "outputPrepend",
     "outputPrepend",
     "outputPrepend",
     "outputPrepend",
     "outputPrepend",
     "outputPrepend"
    ]
   },
   "outputs": [
    {
     "output_type": "stream",
     "name": "stdout",
     "text": "19956\n19956\n4990\n4990\n"
    }
   ],
   "source": [
    "x_train = []\n",
    "x_test = []\n",
    "y_train = []\n",
    "y_test = []\n",
    "\n",
    "number_of_train = int(len(data) * 0.8)\n",
    "i = 0\n",
    "\n",
    "for features, label in data:\n",
    "    if i < number_of_train:\n",
    "        x_train.append(features)\n",
    "        y_train.append(label)\n",
    "    else:\n",
    "        x_test.append(features)\n",
    "        y_test.append(label)\n",
    "    i += 1\n",
    "\n",
    "    \n",
    "print(len(x_train))\n",
    "print(len(y_train))\n",
    "print(len(x_test))\n",
    "print(len(y_test))"
   ]
  },
  {
   "cell_type": "code",
   "execution_count": 7,
   "metadata": {},
   "outputs": [],
   "source": [
    "x_train = numpy.array(x_train).reshape(-1, IMG_SIZE, IMG_SIZE, 1) # last number must be 3 for RGB\n",
    "x_test = numpy.array(x_test).reshape(-1, IMG_SIZE, IMG_SIZE, 1)"
   ]
  },
  {
   "cell_type": "code",
   "execution_count": 8,
   "metadata": {},
   "outputs": [],
   "source": [
    "import pickle\n",
    "\n",
    "pickle_out = open(\"x_train.pickle\", \"wb\")\n",
    "pickle.dump(x_train, pickle_out)\n",
    "pickle_out.close()\n",
    "\n",
    "\n",
    "pickle_out = open(\"x_test.pickle\", \"wb\")\n",
    "pickle.dump(x_test, pickle_out)\n",
    "pickle_out.close()\n",
    "\n",
    "pickle_out = open(\"y_train.pickle\", \"wb\")\n",
    "pickle.dump(y_train, pickle_out)\n",
    "pickle_out.close()\n",
    "\n",
    "pickle_out = open(\"y_test.pickle\", \"wb\")\n",
    "pickle.dump(y_test, pickle_out)\n",
    "pickle_out.close()"
   ]
  },
  {
   "cell_type": "code",
   "execution_count": null,
   "metadata": {},
   "outputs": [],
   "source": [
    "import pickle\n",
    "\n",
    "pickle_in = open(\"x_train.pickle\", \"rb\")\n",
    "x_train = pickle.load(pickle_in)\n",
    "\n",
    "pickle_in = open(\"x_test.pickle\", \"rb\")\n",
    "x_test = pickle.load(pickle_in)\n",
    "\n",
    "pickle_in = open(\"y_train.pickle\", \"rb\")\n",
    "y_train = pickle.load(pickle_in)\n",
    "\n",
    "pickle_in = open(\"y_test.pickle\", \"rb\")\n",
    "y_test = pickle.load(pickle_in)\n"
   ]
  },
  {
   "cell_type": "code",
   "execution_count": null,
   "metadata": {},
   "outputs": [],
   "source": [
    "X = []\n",
    "y = []\n",
    "\n",
    "for features,label in data:\n",
    "    X.append(features)\n",
    "    y.append(label)\n",
    "\n",
    "X = numpy.array(X).reshape(-1, IMG_SIZE, IMG_SIZE, 1)"
   ]
  },
  {
   "cell_type": "code",
   "execution_count": null,
   "metadata": {},
   "outputs": [],
   "source": [
    "import pickle\n",
    "\n",
    "pickle_out = open(\"X.pickle\",\"wb\")\n",
    "pickle.dump(X, pickle_out)\n",
    "pickle_out.close()\n",
    "\n",
    "pickle_out = open(\"y.pickle\",\"wb\")\n",
    "pickle.dump(y, pickle_out)\n",
    "pickle_out.close()"
   ]
  },
  {
   "cell_type": "code",
   "execution_count": null,
   "metadata": {},
   "outputs": [],
   "source": [
    "pickle_in = open(\"X.pickle\",\"rb\")\n",
    "X = pickle.load(pickle_in)\n",
    "\n",
    "pickle_in = open(\"y.pickle\",\"rb\")\n",
    "y = pickle.load(pickle_in)"
   ]
  },
  {
   "cell_type": "code",
   "execution_count": null,
   "metadata": {},
   "outputs": [],
   "source": []
  }
 ]
}