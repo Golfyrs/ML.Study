{
 "nbformat": 4,
 "nbformat_minor": 2,
 "metadata": {
  "language_info": {
   "name": "python",
   "codemirror_mode": {
    "name": "ipython",
    "version": 3
   },
   "version": "3.7.7-final"
  },
  "orig_nbformat": 2,
  "file_extension": ".py",
  "mimetype": "text/x-python",
  "name": "python",
  "npconvert_exporter": "python",
  "pygments_lexer": "ipython3",
  "version": 3,
  "kernelspec": {
   "name": "python37764bit482021fea1c847e3a486dbbd075e16c7",
   "display_name": "Python 3.7.7 64-bit"
  }
 },
 "cells": [
  {
   "cell_type": "code",
   "execution_count": 1,
   "metadata": {},
   "outputs": [],
   "source": [
    "import cv2\n",
    "import tensorflow\n",
    "\n",
    "CATEGORIES = [\"Dog\", \"Cat\"]\n",
    "\n",
    "def load_image(filepath):\n",
    "    IMG_SIZE = 50\n",
    "    image = cv2.imread(filepath, cv2.IMREAD_GRAYSCALE)\n",
    "    transformed_image = cv2.resize(image, (IMG_SIZE, IMG_SIZE))\n",
    "    return transformed_image.reshape(-1, IMG_SIZE, IMG_SIZE, 1)\n",
    "\n",
    "model = tensorflow.keras.models.load_model(\"3-conv-32-layer-size.model\")"
   ]
  },
  {
   "cell_type": "code",
   "execution_count": 2,
   "metadata": {},
   "outputs": [
    {
     "output_type": "stream",
     "name": "stdout",
     "text": "Dog\n"
    }
   ],
   "source": [
    "prediction = model.predict([ load_image('1-sample.jpg') ])\n",
    "print( CATEGORIES[ int(prediction[0][0]) ] )"
   ]
  },
  {
   "cell_type": "code",
   "execution_count": 3,
   "metadata": {},
   "outputs": [
    {
     "output_type": "stream",
     "name": "stdout",
     "text": "Dog\n"
    }
   ],
   "source": [
    "prediction = model.predict([ load_image('2-sample.jpg') ])\n",
    "print( CATEGORIES[ int(prediction[0][0]) ] )"
   ]
  },
  {
   "cell_type": "code",
   "execution_count": 4,
   "metadata": {},
   "outputs": [
    {
     "output_type": "stream",
     "name": "stdout",
     "text": "Cat\n"
    }
   ],
   "source": [
    "prediction = model.predict([ load_image('3-sample.jpg') ])\n",
    "print( CATEGORIES[ int(prediction[0][0]) ] )"
   ]
  }
 ]
}